{
 "cells": [
  {
   "cell_type": "code",
   "execution_count": 7,
   "id": "baaa5c34",
   "metadata": {},
   "outputs": [
    {
     "name": "stdout",
     "output_type": "stream",
     "text": [
      "📊 Model Evaluation (Improved Task 2)\n",
      "MAE  (Mean Absolute Error): 1.56\n",
      "RMSE (Root Mean Squared Error): 2.17\n",
      "R²   (Explained Variance): 0.3441\n",
      "Model saved to ../models/task2_staffing_model.pkl\n"
     ]
    }
   ],
   "source": [
    "import pandas as pd\n",
    "from sklearn.ensemble import RandomForestRegressor\n",
    "from sklearn.model_selection import train_test_split\n",
    "from sklearn.preprocessing import LabelEncoder\n",
    "from sklearn.metrics import mean_absolute_error, mean_squared_error, r2_score\n",
    "import joblib \n",
    "\n",
    "# ------------------ Load dataset ------------------\n",
    "url = \"https://raw.githubusercontent.com/CeylonSmartCitizen/SigSegV_Datathon/refs/heads/main/data/raw/staffing_train.csv\"\n",
    "df = pd.read_csv(url)\n",
    "\n",
    "# ------------------ Feature engineering ------------------\n",
    "df[\"date\"] = pd.to_datetime(df[\"date\"])\n",
    "df[\"day_of_week\"] = df[\"date\"].dt.dayofweek\n",
    "df[\"month\"] = df[\"date\"].dt.month\n",
    "df[\"year\"] = df[\"date\"].dt.year\n",
    "df[\"day_of_year\"] = df[\"date\"].dt.dayofyear\n",
    "df[\"quarter\"] = df[\"date\"].dt.quarter\n",
    "df[\"is_weekend\"] = (df[\"day_of_week\"] >= 5).astype(int)\n",
    "\n",
    "# Encode section_id\n",
    "le = LabelEncoder()\n",
    "df[\"section_encoded\"] = le.fit_transform(df[\"section_id\"])\n",
    "\n",
    "# Simple lag feature: last week's employees (per section, same weekday)\n",
    "df = df.sort_values([\"section_id\", \"date\"])\n",
    "df[\"lag_7\"] = df.groupby(\"section_id\")[\"employees_on_duty\"].shift(7)\n",
    "df[\"lag_7\"] = df[\"lag_7\"].fillna(df[\"employees_on_duty\"].median())\n",
    "\n",
    "# Features and target\n",
    "X = df[[\"day_of_week\", \"month\", \"year\", \"day_of_year\",\n",
    "        \"quarter\", \"is_weekend\", \"section_encoded\", \"lag_7\"]]\n",
    "y = df[\"employees_on_duty\"]\n",
    "\n",
    "# ------------------ Train-test split ------------------\n",
    "X_train, X_test, y_train, y_test = train_test_split(\n",
    "    X, y, test_size=0.2, random_state=42\n",
    ")\n",
    "\n",
    "# ------------------ Random Forest model ------------------\n",
    "model = RandomForestRegressor(\n",
    "    n_estimators=300,\n",
    "    max_depth=15,\n",
    "    random_state=42,\n",
    "    n_jobs=-1\n",
    ")\n",
    "model.fit(X_train, y_train)\n",
    "\n",
    "# ------------------ Evaluation ------------------\n",
    "y_pred = model.predict(X_test)\n",
    "\n",
    "mae = mean_absolute_error(y_test, y_pred)\n",
    "rmse = np.sqrt(mean_squared_error(y_test, y_pred))  # works in all versions\n",
    "r2 = r2_score(y_test, y_pred)\n",
    "\n",
    "print(\"📊 Model Evaluation (Improved Task 2)\")\n",
    "print(f\"MAE  (Mean Absolute Error): {mae:.2f}\")\n",
    "print(f\"RMSE (Root Mean Squared Error): {rmse:.2f}\")\n",
    "print(f\"R²   (Explained Variance): {r2:.4f}\")\n",
    "\n",
    "# ------------------ Save model ------------------\n",
    "joblib.dump(model, r\"..\\models\\task2_staffing_model.pkl\")\n",
    "print(\"Model saved to ../models/task2_staffing_model.pkl\")\n",
    "\n"
   ]
  }
 ],
 "metadata": {
  "kernelspec": {
   "display_name": "Python 3",
   "language": "python",
   "name": "python3"
  },
  "language_info": {
   "codemirror_mode": {
    "name": "ipython",
    "version": 3
   },
   "file_extension": ".py",
   "mimetype": "text/x-python",
   "name": "python",
   "nbconvert_exporter": "python",
   "pygments_lexer": "ipython3",
   "version": "3.13.7"
  }
 },
 "nbformat": 4,
 "nbformat_minor": 5
}
