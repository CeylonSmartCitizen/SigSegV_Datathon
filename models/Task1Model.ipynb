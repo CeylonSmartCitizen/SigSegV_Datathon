{
 "cells": [
  {
   "cell_type": "code",
   "execution_count": null,
   "id": "e8ac4c01",
   "metadata": {
    "vscode": {
     "languageId": "plaintext"
    }
   },
   "outputs": [],
   "source": [
    "import pandas as pd\n",
    "from sklearn.model_selection import train_test_split\n",
    "from sklearn.ensemble import RandomForestRegressor\n",
    "from sklearn.metrics import mean_squared_error, r2_score\n",
    "import joblib\n",
    "\n",
    "#Load dataset\n",
    "url = \"https://raw.githubusercontent.com/CeylonSmartCitizen/SigSegV_Datathon/main/data/raw/bookings_train.csv\"\n",
    "df = pd.read_csv(url)\n",
    "\n",
    "print(\"Initial dataset shape:\", df.shape)\n",
    "\n",
    "#Convert datetime columns\n",
    "df['check_in_time'] = pd.to_datetime(df['check_in_time'], errors='coerce')\n",
    "df['check_out_time'] = pd.to_datetime(df['check_out_time'], errors='coerce')\n",
    "\n",
    "# Step 3: Create target variable\n",
    "df['processing_time_minutes'] = (\n",
    "    (df['check_out_time'] - df['check_in_time']).dt.total_seconds() / 60\n",
    ")\n",
    "\n",
    "#Drop rows with missing target values Nan\n",
    "before_drop = df.shape[0]\n",
    "df = df.dropna(subset=['processing_time_minutes'])\n",
    "after_drop = df.shape[0]\n",
    "print(f\"Dropped {before_drop - after_drop} rows due to missing target values.\")\n",
    "print(\"Cleaned dataset shape:\", df.shape)\n",
    "\n",
    "#Feature engineering\n",
    "df['appointment_time'] = pd.to_datetime(df['appointment_time'], format='%H:%M').dt.hour\n",
    "\n",
    "X = df[['appointment_time', 'num_documents', 'queue_number']]\n",
    "y = df['processing_time_minutes']\n",
    "\n",
    "#One hot encode task_id\n",
    "X = pd.concat([X, pd.get_dummies(df['task_id'], prefix='task')], axis=1)\n",
    "\n",
    "#Train test split\n",
    "X_train, X_test, y_train, y_test = train_test_split(\n",
    "    X, y, test_size=0.2, random_state=100\n",
    ")\n",
    "\n",
    "#Train model\n",
    "model = RandomForestRegressor(max_depth=10, random_state=100)\n",
    "model.fit(X_train, y_train)\n",
    "\n",
    "#Evaluate model\n",
    "y_pred = model.predict(X_test)\n",
    "mse = mean_squared_error(y_test, y_pred)\n",
    "r2 = r2_score(y_test, y_pred)\n",
    "\n",
    "print(f\"Test MSE: {mse:.2f}\")\n",
    "print(f\"Test R^2: {r2:.3f}\")\n",
    "\n",
    "#Save model\n",
    "joblib.dump(model, r\"F:\\SigSegV_Datathon\\models\\task1_completion_time_model.pkl\")\n",
    "print(\"Model saved to models/task1_completion_time_model.pkl\")\n"
   ]
  }
 ],
 "metadata": {
  "language_info": {
   "name": "python"
  }
 },
 "nbformat": 4,
 "nbformat_minor": 5
}
